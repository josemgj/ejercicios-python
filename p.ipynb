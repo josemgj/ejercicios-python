{
 "cells": [
  {
   "cell_type": "code",
   "execution_count": 13,
   "metadata": {},
   "outputs": [
    {
     "name": "stdout",
     "output_type": "stream",
     "text": [
      "    cars  passings\n",
      "0    BMW         3\n",
      "1  Volvo         7\n",
      "2   Ford         2\n"
     ]
    }
   ],
   "source": [
    "import pandas as pd \n",
    "\n",
    "mydataset = {\n",
    "  'cars': [\"BMW\", \"Volvo\", \"Ford\"],\n",
    "  'passings': [3, 7, 2]\n",
    "}\n",
    "\n",
    "myvar = pd.DataFrame(mydataset)\n",
    "\n",
    "print(myvar)"
   ]
  },
  {
   "cell_type": "code",
   "execution_count": 14,
   "metadata": {},
   "outputs": [
    {
     "name": "stdout",
     "output_type": "stream",
     "text": [
      "      materia  nota\n",
      "0    Lenguaje     7\n",
      "1    Sociales     8\n",
      "2  Matematica     6\n"
     ]
    }
   ],
   "source": [
    "import pandas as pd \n",
    "\n",
    "nota = {\n",
    "  'materia': [\"Lenguaje\", \"Sociales\", \"Matematica\"],\n",
    "  'nota': [7, 8, 6]\n",
    "}\n",
    "\n",
    "mostrar = pd.DataFrame(nota)\n",
    "\n",
    "print(mostrar)"
   ]
  },
  {
   "cell_type": "code",
   "execution_count": 15,
   "metadata": {},
   "outputs": [
    {
     "name": "stdout",
     "output_type": "stream",
     "text": [
      "1.5.3\n"
     ]
    }
   ],
   "source": [
    "import pandas as pd\n",
    "print(pd.__version__)"
   ]
  },
  {
   "cell_type": "code",
   "execution_count": 16,
   "metadata": {},
   "outputs": [
    {
     "name": "stdout",
     "output_type": "stream",
     "text": [
      "      materia  nota\n",
      "0    Lenguaje     7\n",
      "1    Sociales     8\n",
      "2  Matematica     6\n"
     ]
    }
   ],
   "source": [
    "\"\"\" marcos de datos\n",
    "Los conjuntos de datos en Pandas suelen ser tablas multidimensionales, \n",
    "llamadas DataFrames.\n",
    "La serie es como una columna, un DataFrame es la tabla completa.\"\"\"\n",
    "\n",
    "import pandas as pd \n",
    "\n",
    "estudiante = {\n",
    "  'materia': [\"Lenguaje\", \"Sociales\", \"Matematica\"],\n",
    "  'nota': [7, 8, 6]\n",
    "}\n",
    "\n",
    "mostrar = pd.DataFrame(estudiante)\n",
    "\n",
    "print(mostrar)"
   ]
  },
  {
   "cell_type": "code",
   "execution_count": 11,
   "metadata": {},
   "outputs": [
    {
     "name": "stdout",
     "output_type": "stream",
     "text": [
      "0    1\n",
      "1    7\n",
      "2    2\n",
      "dtype: int64\n",
      "1\n"
     ]
    }
   ],
   "source": [
    "\"\"\" ¿Qué es una serie?\n",
    "Una Serie Pandas es como una columna en una tabla.\n",
    "Es una matriz unidimensional que contiene datos de cualquier tipo.\"\"\"\n",
    "\n",
    "import pandas as pd\n",
    "\n",
    "a = [1, 7, 2]\n",
    "\n",
    "myvar = pd.Series(a)\n",
    "\n",
    "print(myvar)\n",
    "#Devuelve el primer valor de la Serie:\n",
    "print(myvar[0])"
   ]
  },
  {
   "cell_type": "code",
   "execution_count": 12,
   "metadata": {},
   "outputs": [
    {
     "name": "stdout",
     "output_type": "stream",
     "text": [
      "x    1\n",
      "y    7\n",
      "z    2\n",
      "dtype: int64\n",
      "7\n"
     ]
    }
   ],
   "source": [
    "#crea tus propias etiquetas \n",
    "import pandas as pd\n",
    "\n",
    "a = [1, 7, 2]\n",
    "\n",
    "myvar = pd.Series(a, index = [\"x\", \"y\", \"z\"])\n",
    "\n",
    "print(myvar)\n",
    "\n",
    "#Al crear etiqueta se puede acceder a los valores\n",
    "#haciendo referencia a ellas \n",
    "#Devolver el valor de \"y\":\n",
    "print(myvar[\"y\"])"
   ]
  },
  {
   "cell_type": "code",
   "execution_count": 17,
   "metadata": {},
   "outputs": [
    {
     "name": "stdout",
     "output_type": "stream",
     "text": [
      "   calificaciones nombres\n",
      "0            10.0     Ana\n",
      "1             9.0    Juan\n",
      "2             8.0   Sofía\n",
      "3             7.5   Pablo\n",
      "4             9.0   Tania\n"
     ]
    }
   ],
   "source": [
    "\"\"\" Las listas son estructuras de datos que pueden almacenar \n",
    "cualquier otro tipo de dato, inclusive una lista puede contener otra lista, \n",
    "además, la cantidad de elementos de una lista se puede modificar removiendo o añadiendo elementos. \n",
    "Para definir una lista se utilizan los corchetes, dentro de estos se colocan todos los elementos \n",
    "separados por comas: \"\"\"\n",
    "\n",
    "import pandas as pd\n",
    "\n",
    "lista = {\n",
    "    'calificaciones' : [10,9,8,7.5,9],\n",
    "    'nombres' : [\"Ana\",\"Juan\",\"Sofía\",\"Pablo\",\"Tania\"]\n",
    "}\n",
    "mostrar=pd.DataFrame(lista)\n",
    "\n",
    "print(mostrar)\n"
   ]
  },
  {
   "cell_type": "code",
   "execution_count": 18,
   "metadata": {},
   "outputs": [
    {
     "name": "stdout",
     "output_type": "stream",
     "text": [
      "             calificaciones nombres\n",
      "lenguaje               10.0     Ana\n",
      "matematicas             9.0    Juan\n",
      "ciencias                8.0   Sofía\n",
      "sociales                7.5   Pablo\n",
      "ingles                  9.0   Tania\n"
     ]
    }
   ],
   "source": [
    "import pandas as pd\n",
    "\n",
    "lista = {\n",
    "    'calificaciones' : [10,9,8,7.5,9],\n",
    "    'nombres' : [\"Ana\",\"Juan\",\"Sofía\",\"Pablo\",\"Tania\"]\n",
    "}\n",
    "mostrar=pd.DataFrame(lista, index = ['lenguaje','matematicas','ciencias', 'sociales', 'ingles'])\n",
    "\n",
    "print(mostrar)"
   ]
  },
  {
   "cell_type": "code",
   "execution_count": 27,
   "metadata": {},
   "outputs": [
    {
     "name": "stdout",
     "output_type": "stream",
     "text": [
      "   Nº               NOMBRE DEL ESTUDIANTE   ac1   act2   act3   act4   act5   act6  PROMEDIO\n",
      "0   1       Acevedo Cruz Alexander Efraín     6      7      8      3      6      7       6.2\n",
      "1   2        Alegría Méndez Ángel Gabriel     7      7      7      7      7      7       7.0\n",
      "2   3         Alemán Estrada Regina María     7      3      6      8      2      6       5.3\n",
      "3   4      Alvarenga Hernández María José     8      4      5      6      5      7       5.8\n",
      "4   5   Aparicio Ferrufino Yafat Fernando     7      8      9      0      3      6       5.5\n"
     ]
    }
   ],
   "source": [
    "import pandas as pd\n",
    "\n",
    "leer = pd.read_csv('dato.csv')\n",
    "\n",
    "print(leer.to_string())"
   ]
  }
 ],
 "metadata": {
  "kernelspec": {
   "display_name": "m_pandas",
   "language": "python",
   "name": "python3"
  },
  "language_info": {
   "codemirror_mode": {
    "name": "ipython",
    "version": 3
   },
   "file_extension": ".py",
   "mimetype": "text/x-python",
   "name": "python",
   "nbconvert_exporter": "python",
   "pygments_lexer": "ipython3",
   "version": "3.11.1"
  },
  "orig_nbformat": 4,
  "vscode": {
   "interpreter": {
    "hash": "cb17bb882fe854ddf95cf6a296f331183daa9e054796a0e1ecaeb6610c232693"
   }
  }
 },
 "nbformat": 4,
 "nbformat_minor": 2
}
